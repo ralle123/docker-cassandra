{
 "cells": [
  {
   "cell_type": "code",
   "execution_count": 4,
   "id": "5019862d-d7ab-4b60-a81b-a44ac3771d35",
   "metadata": {},
   "outputs": [
    {
     "name": "stdout",
     "output_type": "stream",
     "text": [
      "34 Raul Samayoa rs34\n",
      "34 Penny Loafer pl34\n",
      "23 Jack Ryan jr23\n"
     ]
    }
   ],
   "source": [
    "from cassandra.cluster import Cluster\n",
    "if __name__ == \"__main__\":\n",
    "    cluster = Cluster(['172.19.0.2'],port=9042)\n",
    "    session = cluster.connect('cityinfo',wait_for_all_pools=True)\n",
    "    session.execute('USE cityinfo')\n",
    "    rows = session.execute('SELECT * FROM users')\n",
    "    for row in rows:\n",
    "        print(row.age,row.name,row.username)"
   ]
  },
  {
   "cell_type": "markdown",
   "id": "2a5e61a5-0661-45d5-9791-6e2f11981299",
   "metadata": {},
   "source": [
    "## read from cassandra"
   ]
  },
  {
   "cell_type": "code",
   "execution_count": 10,
   "id": "4bc20325-9a6d-4355-99d0-885db5350eb1",
   "metadata": {},
   "outputs": [
    {
     "data": {
      "text/html": [
       "<div>\n",
       "<style scoped>\n",
       "    .dataframe tbody tr th:only-of-type {\n",
       "        vertical-align: middle;\n",
       "    }\n",
       "\n",
       "    .dataframe tbody tr th {\n",
       "        vertical-align: top;\n",
       "    }\n",
       "\n",
       "    .dataframe thead th {\n",
       "        text-align: right;\n",
       "    }\n",
       "</style>\n",
       "<table border=\"1\" class=\"dataframe\">\n",
       "  <thead>\n",
       "    <tr style=\"text-align: right;\">\n",
       "      <th></th>\n",
       "      <th>id</th>\n",
       "      <th>country</th>\n",
       "      <th>name</th>\n",
       "    </tr>\n",
       "  </thead>\n",
       "  <tbody>\n",
       "    <tr>\n",
       "      <th>0</th>\n",
       "      <td>5</td>\n",
       "      <td>USA</td>\n",
       "      <td>Buffalo</td>\n",
       "    </tr>\n",
       "    <tr>\n",
       "      <th>1</th>\n",
       "      <td>1</td>\n",
       "      <td>Canada</td>\n",
       "      <td>Toronto</td>\n",
       "    </tr>\n",
       "    <tr>\n",
       "      <th>2</th>\n",
       "      <td>2</td>\n",
       "      <td>Canada</td>\n",
       "      <td>Ottawa</td>\n",
       "    </tr>\n",
       "    <tr>\n",
       "      <th>3</th>\n",
       "      <td>4</td>\n",
       "      <td>Germany</td>\n",
       "      <td>Berlin</td>\n",
       "    </tr>\n",
       "    <tr>\n",
       "      <th>4</th>\n",
       "      <td>3</td>\n",
       "      <td>Canada</td>\n",
       "      <td>Edmonton</td>\n",
       "    </tr>\n",
       "  </tbody>\n",
       "</table>\n",
       "</div>"
      ],
      "text/plain": [
       "   id  country      name\n",
       "0   5      USA   Buffalo\n",
       "1   1   Canada   Toronto\n",
       "2   2   Canada    Ottawa\n",
       "3   4  Germany    Berlin\n",
       "4   3   Canada  Edmonton"
      ]
     },
     "execution_count": 10,
     "metadata": {},
     "output_type": "execute_result"
    }
   ],
   "source": [
    "import pandas as pd\n",
    "session = cluster.connect('cityinfo',wait_for_all_pools=True)\n",
    "session.execute('USE cityinfo')\n",
    "data = pd.DataFrame(list(session.execute('SELECT * FROM cities')))\n",
    "data"
   ]
  },
  {
   "cell_type": "code",
   "execution_count": 35,
   "id": "ea606619-749a-41ee-8b2f-4855fbdde6b7",
   "metadata": {},
   "outputs": [
    {
     "data": {
      "text/html": [
       "<div>\n",
       "<style scoped>\n",
       "    .dataframe tbody tr th:only-of-type {\n",
       "        vertical-align: middle;\n",
       "    }\n",
       "\n",
       "    .dataframe tbody tr th {\n",
       "        vertical-align: top;\n",
       "    }\n",
       "\n",
       "    .dataframe thead th {\n",
       "        text-align: right;\n",
       "    }\n",
       "</style>\n",
       "<table border=\"1\" class=\"dataframe\">\n",
       "  <thead>\n",
       "    <tr style=\"text-align: right;\">\n",
       "      <th></th>\n",
       "      <th>id</th>\n",
       "      <th>country</th>\n",
       "      <th>name</th>\n",
       "    </tr>\n",
       "  </thead>\n",
       "  <tbody>\n",
       "    <tr>\n",
       "      <th>0</th>\n",
       "      <td>6</td>\n",
       "      <td>USA</td>\n",
       "      <td>LA</td>\n",
       "    </tr>\n",
       "    <tr>\n",
       "      <th>1</th>\n",
       "      <td>7</td>\n",
       "      <td>Mexico</td>\n",
       "      <td>Cancun</td>\n",
       "    </tr>\n",
       "    <tr>\n",
       "      <th>2</th>\n",
       "      <td>8</td>\n",
       "      <td>Chile</td>\n",
       "      <td>Santiago</td>\n",
       "    </tr>\n",
       "  </tbody>\n",
       "</table>\n",
       "</div>"
      ],
      "text/plain": [
       "   id country      name\n",
       "0   6     USA        LA\n",
       "1   7  Mexico    Cancun\n",
       "2   8   Chile  Santiago"
      ]
     },
     "execution_count": 35,
     "metadata": {},
     "output_type": "execute_result"
    }
   ],
   "source": [
    "data2 =[[6,'USA','LA'],[7,'Mexico','Cancun'],[8,'Chile','Santiago']]\n",
    "new_cities = pd.DataFrame(data2,columns=['id','country','name'])\n",
    "new_cities"
   ]
  },
  {
   "cell_type": "markdown",
   "id": "fe74275f-edd1-491e-b4c6-0808fb5453ff",
   "metadata": {},
   "source": [
    "## write to cassandra"
   ]
  },
  {
   "cell_type": "code",
   "execution_count": 51,
   "id": "b17b57c1-f5a5-48fa-85da-d1a0a8a1f824",
   "metadata": {},
   "outputs": [],
   "source": [
    "from cassandra import ConsistencyLevel\n",
    "from cassandra.query import BatchStatement\n",
    "session = cluster.connect('cityinfo',wait_for_all_pools=True)\n",
    "session.execute('USE cityinfo')\n",
    "prepared_query = session.prepare('INSERT INTO cities(id, country, name) VALUES (?,?,?)')\n",
    "for index, item in new_cities.iterrows():\n",
    "    session.execute(prepared_query, (item[0],item[1],item[2]))"
   ]
  },
  {
   "cell_type": "code",
   "execution_count": 49,
   "id": "41b91aca-272a-4609-bf6c-5bd8722cdc02",
   "metadata": {},
   "outputs": [
    {
     "name": "stdout",
     "output_type": "stream",
     "text": [
      "6 USA LA\n",
      "7 Mexico Cancun\n",
      "8 Chile Santiago\n"
     ]
    }
   ],
   "source": [
    "for index, item in new_cities.iterrows():\n",
    "    print(item.id,item[1],item[2])"
   ]
  },
  {
   "cell_type": "code",
   "execution_count": 52,
   "id": "12c41ea2-2504-48f4-9999-15f0cf1366c3",
   "metadata": {},
   "outputs": [
    {
     "data": {
      "text/html": [
       "<div>\n",
       "<style scoped>\n",
       "    .dataframe tbody tr th:only-of-type {\n",
       "        vertical-align: middle;\n",
       "    }\n",
       "\n",
       "    .dataframe tbody tr th {\n",
       "        vertical-align: top;\n",
       "    }\n",
       "\n",
       "    .dataframe thead th {\n",
       "        text-align: right;\n",
       "    }\n",
       "</style>\n",
       "<table border=\"1\" class=\"dataframe\">\n",
       "  <thead>\n",
       "    <tr style=\"text-align: right;\">\n",
       "      <th></th>\n",
       "      <th>id</th>\n",
       "      <th>country</th>\n",
       "      <th>name</th>\n",
       "    </tr>\n",
       "  </thead>\n",
       "  <tbody>\n",
       "    <tr>\n",
       "      <th>0</th>\n",
       "      <td>5</td>\n",
       "      <td>USA</td>\n",
       "      <td>Buffalo</td>\n",
       "    </tr>\n",
       "    <tr>\n",
       "      <th>1</th>\n",
       "      <td>1</td>\n",
       "      <td>Canada</td>\n",
       "      <td>Toronto</td>\n",
       "    </tr>\n",
       "    <tr>\n",
       "      <th>2</th>\n",
       "      <td>8</td>\n",
       "      <td>Chile</td>\n",
       "      <td>Santiago</td>\n",
       "    </tr>\n",
       "    <tr>\n",
       "      <th>3</th>\n",
       "      <td>2</td>\n",
       "      <td>Canada</td>\n",
       "      <td>Ottawa</td>\n",
       "    </tr>\n",
       "    <tr>\n",
       "      <th>4</th>\n",
       "      <td>4</td>\n",
       "      <td>Germany</td>\n",
       "      <td>Berlin</td>\n",
       "    </tr>\n",
       "    <tr>\n",
       "      <th>5</th>\n",
       "      <td>7</td>\n",
       "      <td>Mexico</td>\n",
       "      <td>Cancun</td>\n",
       "    </tr>\n",
       "    <tr>\n",
       "      <th>6</th>\n",
       "      <td>6</td>\n",
       "      <td>USA</td>\n",
       "      <td>LA</td>\n",
       "    </tr>\n",
       "    <tr>\n",
       "      <th>7</th>\n",
       "      <td>3</td>\n",
       "      <td>Canada</td>\n",
       "      <td>Edmonton</td>\n",
       "    </tr>\n",
       "  </tbody>\n",
       "</table>\n",
       "</div>"
      ],
      "text/plain": [
       "   id  country      name\n",
       "0   5      USA   Buffalo\n",
       "1   1   Canada   Toronto\n",
       "2   8    Chile  Santiago\n",
       "3   2   Canada    Ottawa\n",
       "4   4  Germany    Berlin\n",
       "5   7   Mexico    Cancun\n",
       "6   6      USA        LA\n",
       "7   3   Canada  Edmonton"
      ]
     },
     "execution_count": 52,
     "metadata": {},
     "output_type": "execute_result"
    }
   ],
   "source": [
    "data2 = pd.DataFrame(list(session.execute('SELECT * FROM cities')))\n",
    "data2"
   ]
  },
  {
   "cell_type": "code",
   "execution_count": null,
   "id": "77a62742-871d-4c35-8f39-11be75a3ef34",
   "metadata": {},
   "outputs": [],
   "source": []
  }
 ],
 "metadata": {
  "kernelspec": {
   "display_name": "Python 3 (ipykernel)",
   "language": "python",
   "name": "python3"
  },
  "language_info": {
   "codemirror_mode": {
    "name": "ipython",
    "version": 3
   },
   "file_extension": ".py",
   "mimetype": "text/x-python",
   "name": "python",
   "nbconvert_exporter": "python",
   "pygments_lexer": "ipython3",
   "version": "3.10.8"
  }
 },
 "nbformat": 4,
 "nbformat_minor": 5
}
